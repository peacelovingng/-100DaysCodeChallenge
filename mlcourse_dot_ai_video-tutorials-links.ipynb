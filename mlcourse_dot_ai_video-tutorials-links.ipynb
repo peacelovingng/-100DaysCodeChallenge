{
  "nbformat": 4,
  "nbformat_minor": 0,
  "metadata": {
    "colab": {
      "name": "mlcoursedotaivideolinks.ipynb",
      "provenance": [],
      "collapsed_sections": [],
      "include_colab_link": true
    },
    "kernelspec": {
      "name": "python3",
      "display_name": "Python 3"
    }
  },
  "cells": [
    {
      "cell_type": "markdown",
      "metadata": {
        "id": "view-in-github",
        "colab_type": "text"
      },
      "source": [
        "<a href=\"https://colab.research.google.com/github/peacelovingng/-100DaysCodeChallenge/blob/master/mlcourse_dot_ai_video-tutorials-links.ipynb\" target=\"_parent\"><img src=\"https://colab.research.google.com/assets/colab-badge.svg\" alt=\"Open In Colab\"/></a>"
      ]
    },
    {
      "cell_type": "markdown",
      "metadata": {
        "id": "14Ze1BbpQwRw",
        "colab_type": "text"
      },
      "source": [
        "#A Video Scraper For Youtube Links of The Video Tutorials on https://mlcourse.ai\n",
        "\n",
        "###Library Consumed : BeautifulSoup from bs4, requests, re and lxml\n",
        "\n",
        "###Author : Alamu Olawale Ahmed(Peaceloving)\n",
        "\n",
        "####Date Published : 26/09/2019\n"
      ]
    },
    {
      "cell_type": "code",
      "metadata": {
        "id": "7Gfuz18-hlVr",
        "colab_type": "code",
        "colab": {}
      },
      "source": [
        "#Import Libraries\n",
        "from bs4 import BeautifulSoup as bs\n",
        "import requests\n",
        "import re"
      ],
      "execution_count": 0,
      "outputs": []
    },
    {
      "cell_type": "code",
      "metadata": {
        "id": "q1bsAwyvSdOU",
        "colab_type": "code",
        "colab": {}
      },
      "source": [
        "#Get url, soup and links\n",
        "r = requests.get('https://mlcourse.ai/lectures').content\n",
        "soup = bs(r, 'lxml')\n",
        "links = soup.find_all('a')"
      ],
      "execution_count": 0,
      "outputs": []
    },
    {
      "cell_type": "code",
      "metadata": {
        "id": "VCrPzeCxSvka",
        "colab_type": "code",
        "colab": {
          "base_uri": "https://localhost:8080/",
          "height": 986
        },
        "outputId": "c5fedd0e-bc2e-47b8-b995-e13dff486e8d"
      },
      "source": [
        "#Scrape Video Links and Title\n",
        "for index, ytube_link in enumerate(links):\n",
        "    a = ytube_link.get('href')\n",
        "    if re.search('https:[/][/]youtu', a) or re.match('https:[/][/]www[.]youtube', a): \n",
        "      print(index, ytube_link.parent.text)\n",
        "      print(a, '\\n')"
      ],
      "execution_count": 75,
      "outputs": [
        {
          "output_type": "stream",
          "text": [
            "25 Introduction - video, slides\n",
            "https://youtu.be/QKTuw4PNOsU \n",
            "\n",
            "27 Exploratory data analysis with Pandas - video\n",
            "https://youtu.be/fwWCw_cE5aI \n",
            "\n",
            "28 Visualization, main plots for EDA - video\n",
            "https://www.youtube.com/watch?v=WNoQTNOME5g \n",
            "\n",
            "29 Decision trees - theory and practical part\n",
            "https://youtu.be/H4XlBTPv5rQ \n",
            "\n",
            "30 Decision trees - theory and practical part\n",
            "https://youtu.be/RrVYO6Td9Js \n",
            "\n",
            "31 Logistic regression - theoretical foundations, practical part (baselines in the “Alice” competition)\n",
            "https://www.youtube.com/watch?v=l3jiw-N544s \n",
            "\n",
            "32 Logistic regression - theoretical foundations, practical part (baselines in the “Alice” competition)\n",
            "https://www.youtube.com/watch?v=7o0SWgY89i8 \n",
            "\n",
            "33 Ensembles and Random Forest - part 1. Classification metrics - part 2. Example of a business task, predicting a customer payment - part 3\n",
            "https://www.youtube.com/watch?v=neXJL-AqI_c \n",
            "\n",
            "34 Ensembles and Random Forest - part 1. Classification metrics - part 2. Example of a business task, predicting a customer payment - part 3\n",
            "https://www.youtube.com/watch?v=aBOMYqGUlWQ \n",
            "\n",
            "35 Ensembles and Random Forest - part 1. Classification metrics - part 2. Example of a business task, predicting a customer payment - part 3\n",
            "https://www.youtube.com/watch?v=FmKU-1LZGoE \n",
            "\n",
            "36 Linear regression and regularization - theory, LASSO & Ridge, LTV prediction - practice\n",
            "https://youtu.be/ne-MfRfYs_c \n",
            "\n",
            "37 Linear regression and regularization - theory, LASSO & Ridge, LTV prediction - practice\n",
            "https://youtu.be/B8yIaIEMyIc \n",
            "\n",
            "38 Unsupervised learning - Principal Component Analysis and Clustering\n",
            "https://youtu.be/-AswHf7h0I4 \n",
            "\n",
            "39 Unsupervised learning - Principal Component Analysis and Clustering\n",
            "https://youtu.be/eVplCo-w4XE \n",
            "\n",
            "40 Stochastic Gradient Descent for classification and regression - part 1, part 2 TBA\n",
            "https://youtu.be/EUSXbdzaQE8 \n",
            "\n",
            "41 Time series analysis with Python (ARIMA, Prophet) - video\n",
            "https://youtu.be/_9lBwXnbOd8 \n",
            "\n",
            "42 Gradient boosting: basic ideas - part 1, key ideas behind Xgboost, LightGBM, and CatBoost + practice - part 2\n",
            "https://youtu.be/g0ZOtzZqdqk \n",
            "\n",
            "43 Gradient boosting: basic ideas - part 1, key ideas behind Xgboost, LightGBM, and CatBoost + practice - part 2\n",
            "https://youtu.be/V5158Oug4W8 \n",
            "\n",
            "44 Outroduction - video, slides\n",
            "https://youtu.be/FrIW8ixKakw \n",
            "\n"
          ],
          "name": "stdout"
        }
      ]
    },
    {
      "cell_type": "markdown",
      "metadata": {
        "id": "jjtu2wikQhIe",
        "colab_type": "text"
      },
      "source": [
        ""
      ]
    },
    {
      "cell_type": "markdown",
      "metadata": {
        "id": "_oEkTOtYKGUn",
        "colab_type": "text"
      },
      "source": [
        ""
      ]
    }
  ]
}